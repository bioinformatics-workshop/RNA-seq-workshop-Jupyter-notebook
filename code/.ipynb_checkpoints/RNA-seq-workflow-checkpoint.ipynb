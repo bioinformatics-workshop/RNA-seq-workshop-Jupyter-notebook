{
 "cells": [
  {
   "cell_type": "markdown",
   "id": "43097855-c7c6-4e48-bcde-944f04350183",
   "metadata": {},
   "source": [
    "**Author**: Brandon Le  \n",
    "**Workshop**: Reproducible research using Jupyter Notebook: RNA-seq data analysis workflow  \n",
    "**Git Repo**: https://github.com/bioinformatics-workshop/RNA-seq-workshop-Jupyter-notebook"
   ]
  },
  {
   "cell_type": "markdown",
   "id": "5259f406-157d-4f57-b758-22b5754833fe",
   "metadata": {},
   "source": [
    "---"
   ]
  },
  {
   "cell_type": "markdown",
   "id": "b6c655b4-0d7b-4dd6-8ad4-ac1b2609521f",
   "metadata": {},
   "source": [
    "Below is a general workflow for the processing and analysis of an RNA-seq dataset. \n",
    "Code chunks below were implemented on the UCR HPCC cluster.\n",
    "\n",
    "## Obtain SRA sample list\n",
    "We will obtain a SRA sample list containing information for a BioProject stored in the SRA database. Input for the list is the BioProject ID: PRJNA950346"
   ]
  },
  {
   "cell_type": "code",
   "execution_count": 8,
   "id": "2f3461cf-8a90-4c0c-9f9f-f4edc7239e79",
   "metadata": {},
   "outputs": [
    {
     "name": "stdout",
     "output_type": "stream",
     "text": [
      "/bin/bash: sbatch: command not found\n"
     ]
    }
   ],
   "source": [
    "!sbatch code/sra_list_download.sh"
   ]
  },
  {
   "cell_type": "markdown",
   "id": "40e8b84e-54be-4a3a-bdcb-9913324cc640",
   "metadata": {},
   "source": [
    "## Generate metadata file\n",
    "A metadata file is used to describe the sequencing project and used for downstream analysis. \n",
    "\n",
    "The metadata file consists of seven columns:\n",
    "srr_id,ecotype,genotype,treatment,tissue,gsm_id,biorep,samplename\n",
    "  \n",
    "-   **srr_id** : SRR ID from SRA run\n",
    "-   **ecotype**: Col-0\n",
    "-   **genotype**: WT or mir163 mutant\n",
    "-   **treatment**: 7 day old plants\n",
    "-   **tissue**: seedlings\n",
    "-   **biorep**: biological replicate number\n",
    "-   **samplename** : sample name for labeling\n",
    "-   **fq1** : filepath to read1\n",
    "-   **fq2** : filepath to read2\n",
    "\n",
    "The `samplename` is used for all downstream analysis."
   ]
  },
  {
   "cell_type": "code",
   "execution_count": 3,
   "id": "79cd000e-18e0-4abc-962c-48bf03b51e76",
   "metadata": {},
   "outputs": [
    {
     "name": "stdout",
     "output_type": "stream",
     "text": [
      "bamTobw.sh           metadata.R                          sra-download.sh\n",
      "conda_spec_file.txt  multiqc.sh                          sra_list_download.sh\n",
      "create-conda-env.sh  R/                                  STAR-align.sh*\n",
      "DESeq2.R             RNA_seq/                            STAR-index.sh\n",
      "DESeq2.sh            RNA-seq-presentation-revealjs.html  test/\n",
      "download_genome.sh   RNA-seq-workflow.ipynb              trim_galore.sh\n",
      "fastqc.sh            RNA-seq-workshop-presentation.html  workflow.html\n",
      "featurecounts.sh     RNA-seq-workshop-presentation.qmd   workflow.qmd\n",
      "img/                 seqtk-subsample.sh\n"
     ]
    }
   ],
   "source": [
    "ls"
   ]
  },
  {
   "cell_type": "code",
   "execution_count": 5,
   "id": "f0c5ba9a-766e-4dcf-a1fa-d7dca5f9a0af",
   "metadata": {},
   "outputs": [
    {
     "name": "stdout",
     "output_type": "stream",
     "text": [
      "── Attaching core tidyverse packages ──────────────────────── tidyverse 2.0.0 ──\n",
      "✔ dplyr     1.1.3     ✔ readr     2.1.4\n",
      "✔ forcats   1.0.0     ✔ stringr   1.5.0\n",
      "✔ ggplot2   3.4.4     ✔ tibble    3.2.1\n",
      "✔ lubridate 1.9.3     ✔ tidyr     1.3.0\n",
      "✔ purrr     1.0.2     \n",
      "── Conflicts ────────────────────────────────────────── tidyverse_conflicts() ──\n",
      "✖ dplyr::filter() masks stats::filter()\n",
      "✖ dplyr::lag()    masks stats::lag()\n",
      "ℹ Use the conflicted package (<http://conflicted.r-lib.org/>) to force all conflicts to become errors\n",
      "\u001b[?25h\u001b[?25hError: 'raw/PRJNA950346.metadata.tmp' does not exist in current working directory ('/bigdata/bioinfo/brandonle/workshops/RNA-seq-workshop-Jupyter-notebook/code').\n",
      "Execution halted\n",
      "\u001b[?25h\n"
     ]
    },
    {
     "ename": "",
     "evalue": "1",
     "output_type": "error",
     "traceback": []
    }
   ],
   "source": [
    "Rscript --vanilla metadata.R"
   ]
  },
  {
   "cell_type": "markdown",
   "id": "f9b7f18b-1051-406a-ad53-cddf44aa64d0",
   "metadata": {},
   "source": [
    "## Data Download\n",
    "\n",
    "Data were downloaded from the NCBI SRA server to the HPCC cluster"
   ]
  },
  {
   "cell_type": "code",
   "execution_count": null,
   "id": "5b3932d9-d51e-4fa3-96da-2c3fe544936a",
   "metadata": {},
   "outputs": [],
   "source": [
    "while IFS=, read -r srr_id eco geno trt tiss biorep samplename fq1 fq2\n",
    "do\n",
    "  sbatch code/sra-download.sh ${srr_id}\n",
    "done < <(tail -n +2 raw/metadata.csv)\n"
   ]
  },
  {
   "cell_type": "markdown",
   "id": "912c711b-de0b-4e1d-aba9-2541aeb6a418",
   "metadata": {},
   "source": [
    "## QC with FASTQC and trim_galore\n",
    "\n",
    "QC was performed using `fastqc` and `trim_galore` initiated through two shell scripts: `fastqc.sh` and `trim_galore.sh`"
   ]
  },
  {
   "cell_type": "code",
   "execution_count": null,
   "id": "d584d9d5-ba77-48f9-8f39-6a814e354afc",
   "metadata": {},
   "outputs": [],
   "source": [
    "while IFS=, read -r srr_id eco geno trt tiss biorep samplename fq1 fq2\n",
    "do\n",
    "  sbatch code/fastqc.sh ${srr_id}\n",
    "  sbatch code/trim_galore.sh $samplename $fq1 $fq2\n",
    "done < <(tail -n +2 raw/metadata.csv)\n"
   ]
  },
  {
   "cell_type": "markdown",
   "id": "5ec37baa-dabd-4524-aa9a-28cc7de9a94d",
   "metadata": {},
   "source": [
    "## Genome Download\n",
    "\n",
    "Genome sequence and annotation files were downloaded for the respective rice and tomato reference genomes."
   ]
  },
  {
   "cell_type": "code",
   "execution_count": null,
   "id": "3f4c9803-bd90-440c-b8d6-364e6aa8ae2b",
   "metadata": {},
   "outputs": [],
   "source": [
    "sbatch code/download-genome.sh"
   ]
  },
  {
   "cell_type": "markdown",
   "id": "64d62aa0-dbca-49cf-bdf6-39dcc4f92ba3",
   "metadata": {},
   "source": [
    "## Generate STAR Index\n",
    "\n",
    "To run the splice-aware alignment program `STAR`, we need to build an index of the reference genomes"
   ]
  },
  {
   "cell_type": "code",
   "execution_count": null,
   "id": "55f4a8fa-6454-4546-803e-172fae9723f6",
   "metadata": {},
   "outputs": [],
   "source": [
    "sbatch code/STAR-index.sh"
   ]
  },
  {
   "cell_type": "markdown",
   "id": "8488a0af-fde6-4afb-a497-197d605546fb",
   "metadata": {},
   "source": [
    "## Genome Alignment using STAR\n",
    "\n",
    "Align the QC reads to the reference genome using the `STAR` aligner."
   ]
  },
  {
   "cell_type": "code",
   "execution_count": null,
   "id": "4060921f-56ab-4b1b-961c-5af0d2d44ad6",
   "metadata": {},
   "outputs": [],
   "source": [
    "while IFS=, read -r srr_id eco geno trt tiss biorep samplename fq1 fq2\n",
    "do\n",
    "  sbatch code/STAR-align.sh ${samplename}\n",
    "done < <(tail -n +2 raw/metadata.csv)\n"
   ]
  },
  {
   "cell_type": "markdown",
   "id": "047f9a83-86c5-419b-81a5-c397c4b6fd3b",
   "metadata": {},
   "source": [
    "## Convert BAM to BIGWIG for IGV visualization\n",
    "\n",
    "Convert the BAM files to BigWig format for easy visualization in the Integrative Genome Viewer (IGV)."
   ]
  },
  {
   "cell_type": "code",
   "execution_count": null,
   "id": "5e8f29d4-ef11-4537-90d6-f87855cc3f69",
   "metadata": {},
   "outputs": [],
   "source": [
    "while IFS=, read -r srr_id eco geno trt tiss biorep samplename fq1 fq2\n",
    "do\n",
    "  sbatch code/bamTobw.sh ${samplename}\n",
    "done < <(tail -n +2 raw/metadata.csv)"
   ]
  },
  {
   "cell_type": "markdown",
   "id": "8136a73b-c429-4c99-8e6f-8711abfa3f46",
   "metadata": {},
   "source": [
    "## Featurecount to quantify aligned reads\n",
    "\n",
    "`FeatureCount`, a package that is part of the `SubRead` software, will be used to quantify the mapped reads to genomic features (e.g. genes, transcripts)"
   ]
  },
  {
   "cell_type": "code",
   "execution_count": null,
   "id": "0023f298-1c45-49fd-960d-bc80d7b9fb22",
   "metadata": {},
   "outputs": [],
   "source": [
    "sbatch code/featurecounts.sh"
   ]
  },
  {
   "cell_type": "markdown",
   "id": "168d1d9b-0161-4393-8640-c52863693d32",
   "metadata": {},
   "source": [
    "## DESeq2 analysis\n",
    "\n",
    "We will use `DESeq2` to identify differentially expressed genes within the dataset. "
   ]
  },
  {
   "cell_type": "code",
   "execution_count": null,
   "id": "2b543f69-91bc-4b75-b727-efff8f9a34ba",
   "metadata": {},
   "outputs": [],
   "source": [
    "sbatch code/DESeq2.sh"
   ]
  },
  {
   "cell_type": "markdown",
   "id": "d2626d71-b665-43db-aec3-2601698d151f",
   "metadata": {},
   "source": [
    "## QC Summary with MultiQC\n",
    "\n",
    "`MultiQC` is used to generate a summary of the raw and processed data. The results are provided in an HTML file."
   ]
  },
  {
   "cell_type": "code",
   "execution_count": null,
   "id": "caceb556-ce67-4c71-84c9-94e16e259e3e",
   "metadata": {},
   "outputs": [],
   "source": [
    "sbatch code/multiqc.sh"
   ]
  }
 ],
 "metadata": {
  "kernelspec": {
   "display_name": "Bash",
   "language": "bash",
   "name": "bash"
  },
  "language_info": {
   "codemirror_mode": "shell",
   "file_extension": ".sh",
   "mimetype": "text/x-sh",
   "name": "bash"
  }
 },
 "nbformat": 4,
 "nbformat_minor": 5
}

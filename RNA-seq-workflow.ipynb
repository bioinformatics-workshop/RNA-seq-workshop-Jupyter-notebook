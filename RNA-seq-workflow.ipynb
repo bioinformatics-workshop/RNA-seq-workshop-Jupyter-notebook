{
 "cells": [
  {
   "cell_type": "markdown",
   "id": "43097855-c7c6-4e48-bcde-944f04350183",
   "metadata": {},
   "source": [
    "**Author**: Brandon Le  \n",
    "**Workshop**: Reproducible research using Jupyter Notebook: RNA-seq data analysis workflow  \n",
    "**Git Repo**: https://github.com/bioinformatics-workshop/RNA-seq-workshop-Jupyter-notebook"
   ]
  },
  {
   "cell_type": "markdown",
   "id": "5259f406-157d-4f57-b758-22b5754833fe",
   "metadata": {},
   "source": [
    "---"
   ]
  },
  {
   "cell_type": "markdown",
   "id": "b6c655b4-0d7b-4dd6-8ad4-ac1b2609521f",
   "metadata": {},
   "source": [
    "Below is a general workflow for the processing and analysis of an RNA-seq dataset. \n",
    "Code chunks below were implemented on the UCR HPCC cluster.\n",
    "\n",
    "# Data Preparation\n",
    "\n",
    "## Obtain SRA sample list\n",
    "For this demo, we will use a publicly available dataset from the [Sequence Read Archive](https://www.ncbi.nlm.nih.gov/sra) (SRA) hosted at the National Center for Biotechnology Information (NCBI). To download the demo dataset, we will obtain a SRA sample list containing information for a BioProject stored in the SRA database using the BioProject ID: PRJNA950346.\n",
    "\n",
    "We will first use the following shell script to obtain information about the BioProject."
   ]
  },
  {
   "cell_type": "code",
   "execution_count": null,
   "id": "2f3461cf-8a90-4c0c-9f9f-f4edc7239e79",
   "metadata": {
    "scrolled": true
   },
   "outputs": [],
   "source": [
    "# Do not execute\n",
    "sbatch code/sra-info_download.sh"
   ]
  },
  {
   "cell_type": "markdown",
   "id": "7efab29d",
   "metadata": {},
   "source": [
    "The script will generate a `PRJNA950346.metadata.tmp` file in the `raw` folder. This file contain relevant information about the dataset including accession numbers for each sample. Lets examine the content of the file."
   ]
  },
  {
   "cell_type": "code",
   "execution_count": null,
   "id": "8c5db19d",
   "metadata": {},
   "outputs": [],
   "source": [
    "cat -n raw/PRJNA950346.metadata.tmp"
   ]
  },
  {
   "cell_type": "markdown",
   "id": "9323bb9a",
   "metadata": {},
   "source": [
    "## Data Download\n",
    "\n",
    "We will use the accession information (SRRXXXXXXXX) to download the data from the NCBI SRA database."
   ]
  },
  {
   "cell_type": "code",
   "execution_count": null,
   "id": "4e5c0e2e",
   "metadata": {},
   "outputs": [],
   "source": [
    "# Do not execute\n",
    "# sbatch -a 1-6 code/sra_download.sh"
   ]
  },
  {
   "cell_type": "markdown",
   "id": "ce98d8f5",
   "metadata": {},
   "source": [
    "The shell script is executed as an array. The `-a 1-6` portion of the command allows processing the array lines 1 to 6 corresponding to samples 1 to 6 from the `PRJNA950346.metadata.tmp` file. This means that all six samples will be processed in parallel rather than sequentially.\n",
    "\n",
    "**For Example:**  \n",
    "\n",
    "- To process the first two samples, we would run `-a 1-2`.   \n",
    "- To process sample rows 3, 5, and 6, we run `-a 3,5,6`. This allows us to submit individual jobs for each sample in parallel."
   ]
  },
  {
   "cell_type": "markdown",
   "id": "40e8b84e-54be-4a3a-bdcb-9913324cc640",
   "metadata": {},
   "source": [
    "## Generate metadata file\n",
    "A metadata file is used to describe the sequencing project and used for downstream analysis.\n",
    "\n",
    "**NOTE:** Metadata files are great for storing relevant information about the sample and project.\n",
    "\n",
    "For this demo, we created a file containing seven columns (the **first three columns are required** and the *remaining columns are optional*)\n",
    "\n",
    "The metadata file consists of seven columns:  \n",
    "samplename, fq1, fq2, srr_id, ecotype, genotype, treatment, tissue, biorep\n",
    "  \n",
    "-   **samplename** : sample name for labeling (required)\n",
    "-   **fq1** : filepath to read1 (required)\n",
    "-   **fq2** : filepath to read2 (required if paired-end)\n",
    "-   **srr_id** : SRR ID from SRA run\n",
    "-   **ecotype**: Col-0\n",
    "-   **genotype**: WT or mir163 mutant\n",
    "-   **treatment**: 7 day old plants\n",
    "-   **tissue**: seedlings\n",
    "-   **biorep**: biological replicate number\n",
    "\n",
    "The `samplename` is used for all downstream analysis."
   ]
  },
  {
   "cell_type": "code",
   "execution_count": null,
   "id": "f0c5ba9a-766e-4dcf-a1fa-d7dca5f9a0af",
   "metadata": {},
   "outputs": [],
   "source": [
    "# Do not execute\n",
    "# Rscript --vanilla code/metadata.R"
   ]
  },
  {
   "cell_type": "code",
   "execution_count": null,
   "id": "79cd000e-18e0-4abc-962c-48bf03b51e76",
   "metadata": {},
   "outputs": [],
   "source": [
    "cat metadata/metadata.csv"
   ]
  },
  {
   "cell_type": "markdown",
   "id": "5ec37baa-dabd-4524-aa9a-28cc7de9a94d",
   "metadata": {},
   "source": [
    "## Genome Download\n",
    "\n",
    "Genome sequence and annotation files were downloaded for the Arabidopsis genome. \n",
    "\n",
    "Resources available at: [Araport 11](https://www.arabidopsis.org/download/index-auto.jsp?dir=%2Fdownload_files%2FGenes%2FAraport11_genome_release)"
   ]
  },
  {
   "cell_type": "code",
   "execution_count": null,
   "id": "3f4c9803-bd90-440c-b8d6-364e6aa8ae2b",
   "metadata": {},
   "outputs": [],
   "source": [
    "# Do not execute\n",
    "# sbatch code/download-genome.sh"
   ]
  },
  {
   "cell_type": "markdown",
   "id": "8488a0af-fde6-4afb-a497-197d605546fb",
   "metadata": {},
   "source": [
    "# RNA-Seq Data Processing\n",
    "\n",
    "The RNA-seq data processing will consist of three major steps:\n",
    "\n",
    "1. Generate the index for the reference genome\n",
    "2. QC and alignment\n",
    "3. Differential expression analysis"
   ]
  },
  {
   "cell_type": "markdown",
   "id": "0d0043a7",
   "metadata": {},
   "source": [
    "## Indexing the Reference genome\n",
    "\n",
    "Indexing provides a fast method to align the reads to the reference genome. We will use the [STAR](https://academic.oup.com/bioinformatics/article/29/1/15/272537) aligner to first index the genome and then alignment."
   ]
  },
  {
   "cell_type": "code",
   "execution_count": null,
   "id": "ef5ffbc4",
   "metadata": {},
   "outputs": [],
   "source": [
    "sbatch code/00-rnaseq-pre-process.sh"
   ]
  },
  {
   "cell_type": "markdown",
   "id": "168d1d9b-0161-4393-8640-c52863693d32",
   "metadata": {},
   "source": [
    "## QC and read alignments\n",
    "\n",
    "We will run quality control on the raw reads using `Fastqc` and `trim_galore` to remove low-quality bases and adapters. Then align the trimmed reads to the reference genome and generate outputs for visualization on a genome browser."
   ]
  },
  {
   "cell_type": "code",
   "execution_count": null,
   "id": "caceb556-ce67-4c71-84c9-94e16e259e3e",
   "metadata": {},
   "outputs": [],
   "source": [
    "sbatch code/01-rnaseq-align.sh"
   ]
  },
  {
   "cell_type": "markdown",
   "id": "998d60fa",
   "metadata": {},
   "source": [
    "## Differential Expression analysis\n",
    "\n",
    "After QC and alignment, we can quantify the read counts per gene and run differential expression analysis using [DESeq2](https://genomebiology.biomedcentral.com/articles/10.1186/s13059-014-0550-8). The differential expression analysis pipeline will generate PCA plots, DEG lists, and volcano plots."
   ]
  },
  {
   "cell_type": "code",
   "execution_count": null,
   "id": "663c876a",
   "metadata": {},
   "outputs": [],
   "source": [
    "sbatch code/02-rnaseq-differential-abundance.sh"
   ]
  }
 ],
 "metadata": {
  "kernelspec": {
   "display_name": "Bash",
   "language": "bash",
   "name": "bash"
  },
  "language_info": {
   "codemirror_mode": "shell",
   "file_extension": ".sh",
   "mimetype": "text/x-sh",
   "name": "bash"
  }
 },
 "nbformat": 4,
 "nbformat_minor": 5
}
